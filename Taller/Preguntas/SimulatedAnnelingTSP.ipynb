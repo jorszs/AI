{
 "cells": [
  {
   "cell_type": "markdown",
   "metadata": {},
   "source": [
    "# SIMULATED ANNEALING\n",
    "\n",
    "En este cuaderno de jupyter se implementara una el algoritmo de recocido simulado para solucionar una instacia del problema TSP.\n",
    "\n",
    "primero que todo haremos el parseo de esta [instancia](http://elib.zib.de/pub/mp-testdata/tsp/tsplib/tsp/a280.tsp), tambien traemos su ruta optima para comparaciones al final del proceso."
   ]
  },
  {
   "cell_type": "code",
   "execution_count": 8,
   "metadata": {},
   "outputs": [
    {
     "name": "stdout",
     "output_type": "stream",
     "text": [
      "[(288+149j), (288+129j), (270+133j), (256+141j), (256+157j), (246+157j), (236+169j), (228+169j), (228+161j), (220+169j), (212+169j), (204+169j), (196+169j), (188+169j), (196+161j), (188+145j), (172+145j), (164+145j), (156+145j), (148+145j), (140+145j), (148+169j), (164+169j), (172+169j), (156+169j), (140+169j), (132+169j), (124+169j), (116+161j), (104+153j), (104+161j), (104+169j), (90+165j), (80+157j), (64+157j), (64+165j), (56+169j), (56+161j), (56+153j), (56+145j), (56+137j), (56+129j), (56+121j), (40+121j), (40+129j), (40+137j), (40+145j), (40+153j), (40+161j), (40+169j), (32+169j), (32+161j), (32+153j), (32+145j), (32+137j), (32+129j), (32+121j), (32+113j), (40+113j), (56+113j), (56+105j), (48+99j), (40+99j), (32+97j), (32+89j), (24+89j), (16+97j), (16+109j), (8+109j), (8+97j), (8+89j), (8+81j), (8+73j), (8+65j), (8+57j), (16+57j), (8+49j), (8+41j), (24+45j), (32+41j), (32+49j), (32+57j), (32+65j), (32+73j), (32+81j), (40+83j), (40+73j), (40+63j), (40+51j), (44+43j), (44+35j), (44+27j), (32+25j), (24+25j), (16+25j), (16+17j), (24+17j), (32+17j), (44+11j), (56+9j), (56+17j), (56+25j), (56+33j), (56+41j), (64+41j), (72+41j), (72+49j), (56+49j), (48+51j), (56+57j), (56+65j), (48+63j), (48+73j), (56+73j), (56+81j), (48+83j), (56+89j), (56+97j), (104+97j), (104+105j), (104+113j), (104+121j), (104+129j), (104+137j), (104+145j), (116+145j), (124+145j), (132+145j), (132+137j), (140+137j), (148+137j), (156+137j), (164+137j), (172+125j), (172+117j), (172+109j), (172+101j), (172+93j), (172+85j), (180+85j), (180+77j), (180+69j), (180+61j), (180+53j), (172+53j), (172+61j), (172+69j), (172+77j), (164+81j), (148+85j), (124+85j), (124+93j), (124+109j), (124+125j), (124+117j), (124+101j), (104+89j), (104+81j), (104+73j), (104+65j), (104+49j), (104+41j), (104+33j), (104+25j), (104+17j), (92+9j), (80+9j), (72+9j), (64+21j), (72+25j), (80+25j), (80+25j), (80+41j), (88+49j), (104+57j), (124+69j), (124+77j), (132+81j), (140+65j), (132+61j), (124+61j), (124+53j), (124+45j), (124+37j), (124+29j), (132+21j), (124+21j), (120+9j), (128+9j), (136+9j), (148+9j), (162+9j), (156+25j), (172+21j), (180+21j), (180+29j), (172+29j), (172+37j), (172+45j), (180+45j), (180+37j), (188+41j), (196+49j), (204+57j), (212+65j), (220+73j), (228+69j), (228+77j), (236+77j), (236+69j), (236+61j), (228+61j), (228+53j), (236+53j), (236+45j), (228+45j), (228+37j), (236+37j), (236+29j), (228+29j), (228+21j), (236+21j), (252+21j), (260+29j), (260+37j), (260+45j), (260+53j), (260+61j), (260+69j), (260+77j), (276+77j), (276+69j), (276+61j), (276+53j), (284+53j), (284+61j), (284+69j), (284+77j), (284+85j), (284+93j), (284+101j), (288+109j), (280+109j), (276+101j), (276+93j), (276+85j), (268+97j), (260+109j), (252+101j), (260+93j), (260+85j), (236+85j), (228+85j), (228+93j), (236+93j), (236+101j), (228+101j), (228+109j), (228+117j), (228+125j), (220+125j), (212+117j), (204+109j), (196+101j), (188+93j), (180+93j), (180+101j), (180+109j), (180+117j), (180+125j), (196+145j), (204+145j), (212+145j), (220+145j), (228+145j), (236+145j), (246+141j), (252+125j), (260+129j), (280+133j)]\n"
     ]
    }
   ],
   "source": [
    "City = complex\n",
    "\n",
    "\n",
    "setCitys = 'archivos/a280.txt' #cargamos el archivo de las coordenadas\n",
    "\n",
    "puntos = {}\n",
    "\n",
    "archivo = open(setCitys, 'rt')\n",
    "inicio, fin , i= 6, 286, 0\n",
    "for linea in archivo:\n",
    "    if i < 6:\n",
    "        i += 1\n",
    "        continue\n",
    "    if i < 286:\n",
    "        linea = linea.replace('\\n', '')\n",
    "        #print(linea.split(' '))\n",
    "        K = [int(k) for k in linea.split(' ') if k != '']\n",
    "        #print linea\n",
    "        puntos[K[0]] = City(K[1] , K[2])\n",
    "    i += 1\n",
    "        \n",
    "    \n",
    "setOpt = 'archivos/a280.opt.txt' #cargamos la ruta optima\n",
    "\n",
    "optimo = []\n",
    "\n",
    "archivo = open(setOpt, 'rt')\n",
    "inicio, fin , i= 4, 284, 0\n",
    "for linea in archivo:\n",
    "    if i < inicio:\n",
    "        i+= 1\n",
    "        continue\n",
    "    if i < fin:\n",
    "        optimo.append(puntos[int(linea.replace('\\n','').replace(' ',''))])\n",
    "    i+=1\n",
    "print puntos.values()"
   ]
  },
  {
   "cell_type": "markdown",
   "metadata": {},
   "source": [
    "Ahora procederemos a importar lo que necesitamos de la liberia Aima que es con al cual vamos a solucionar el problema"
   ]
  },
  {
   "cell_type": "code",
   "execution_count": 58,
   "metadata": {},
   "outputs": [],
   "source": [
    "from aima3.search import Problem\n",
    "from aima3.search import Node\n",
    "from aima3.search import simulated_annealing\n",
    "import random\n",
    "import math\n",
    "\n",
    "def distance(A, B): return abs(A - B)"
   ]
  },
  {
   "cell_type": "markdown",
   "metadata": {},
   "source": [
    "Ahora definiremos el problema."
   ]
  },
  {
   "cell_type": "code",
   "execution_count": 81,
   "metadata": {},
   "outputs": [],
   "source": [
    "class TSP_problem(Problem):\n",
    "\n",
    "    \"\"\" subclass of Problem to define various functions \"\"\"\n",
    "\n",
    "    def two_opt(self, state):\n",
    "        \"\"\" Neighbour generating function for Traveling Salesman Problem \"\"\"\n",
    "        neighbour_state = state[:]\n",
    "        left = random.randint(0, len(neighbour_state) - 1)\n",
    "        right = random.randint(0, len(neighbour_state) - 1)\n",
    "        if left > right:\n",
    "            left, right = right, left\n",
    "        neighbour_state[left: right + 1] = reversed(neighbour_state[left: right + 1])\n",
    "        return neighbour_state\n",
    "\n",
    "    def actions(self, state):\n",
    "        \"\"\" action that can be excuted in given state \"\"\"\n",
    "        return [self.two_opt]\n",
    "\n",
    "    def result(self, state, action):\n",
    "        \"\"\"  result after applying the given action on the given state \"\"\"\n",
    "        return action(state)\n",
    "\n",
    "    def path_cost(self, c, state1, action, tour):\n",
    "        \"\"\" total distance for the Traveling Salesman to be covered if in state2  \"\"\"\n",
    "        return sum(distance(tour[i - 1], tour[i]) \n",
    "               for i in range(len(tour)))\n",
    "\n",
    "    def value(self, state):\n",
    "        \"\"\" value of path cost given negative for the given state \"\"\"\n",
    "        return  -1 * self.path_cost(None, None, None, state)"
   ]
  },
  {
   "cell_type": "markdown",
   "metadata": {},
   "source": [
    "Ahora encontramos la solucion del problema"
   ]
  },
  {
   "cell_type": "code",
   "execution_count": 92,
   "metadata": {},
   "outputs": [],
   "source": [
    "tsp = TSP_problem(list(puntos.values()))\n",
    "solution = simulated_annealing(tsp)"
   ]
  },
  {
   "cell_type": "markdown",
   "metadata": {},
   "source": [
    "Ahora compararemos la solucion que nos entrega el algoritmo con la solucion optima que tenemos ya guardada"
   ]
  },
  {
   "cell_type": "code",
   "execution_count": 93,
   "metadata": {},
   "outputs": [
    {
     "name": "stdout",
     "output_type": "stream",
     "text": [
      " 2818.6216422394746\n",
      " 2586.769647563161\n",
      " 2818.6216422394746\n"
     ]
    }
   ],
   "source": [
    "def tour_length(tour):\n",
    "    \"\"\"The total of distances between each pair of consecutive cities in the tour.\n",
    "    This includes the last-to-first, distance(tour[-1], tour[0])\"\"\"\n",
    "    return sum(distance(tour[i - 1], tour[i]) \n",
    "               for i in range(len(tour)))\n",
    "\n",
    "\n",
    "\n",
    "TamañoInicial = tour_length(list(puntos.values()))\n",
    "TamañoOptimo = tour_length(optimo)\n",
    "TamañoRecocido =  tour_length(solution)\n",
    "\n",
    "\n",
    "print('', TamañoInicial)\n",
    "print('' , TamañoOptimo)\n",
    "print('', TamañoRecocido)"
   ]
  }
 ],
 "metadata": {
  "kernelspec": {
   "display_name": "Python 3",
   "language": "python",
   "name": "python3"
  },
  "language_info": {
   "codemirror_mode": {
    "name": "ipython",
    "version": 2
   },
   "file_extension": ".py",
   "mimetype": "text/x-python",
   "name": "python",
   "nbconvert_exporter": "python",
   "pygments_lexer": "ipython2",
   "version": "2.7.15rc1"
  }
 },
 "nbformat": 4,
 "nbformat_minor": 2
}
